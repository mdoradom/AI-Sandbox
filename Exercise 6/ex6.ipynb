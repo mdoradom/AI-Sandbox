{
 "cells": [
  {
   "cell_type": "markdown",
   "metadata": {},
   "source": [
    "# Lab 6: CNN\n",
    "Mario Dorado Martínez"
   ]
  },
  {
   "cell_type": "markdown",
   "metadata": {},
   "source": [
    "## Introducción\n",
    "\n",
    "Des del zoo de Luthadel l'heroi de les Eras ens ha contactat al CITM per demanar-nos que dissenyem una app que identifiqui els animals i generi preguntes perquè els nens puguin aprendre i conèixer més de l’animal que estan veient en temps real. \n",
    "\n",
    "Per fer aquesta aplicació s’ha planificat la següent arquitectura:\n",
    "\n",
    "![image.png](diagram.png)\n",
    "\n",
    "1. L'usuari fará una fotografia amb el seu dispositiu mòbil i la pujarà a la nostra aplicació\n",
    "2. El model de CNN detectarà quin animal es tracta.\n",
    "3. L'animal detectat se li enviarà al model de xat Llama 3.2 perquè ens generi diverses\n",
    "preguntes amb 4 opcions cada una i només una certa.\n",
    "4. Un cop generades aquestes preguntes seran mostrades a l’app per poder jugar.\n",
    "\n",
    "Per aquesta pràctica es demana que es realitzi els punts 1 i 2 d’aquesta primera fase del desenvolupament del videojoc. Per poder entrenar el model haureu de fer servir el conjunt de dades que trobareu disponible en el següent link: [Kaggle Animals Dataset](https://www.kaggle.com/datasets/iamsouravbanerjee/animal-image-dataset-90-different-animals/code)"
   ]
  },
  {
   "cell_type": "markdown",
   "metadata": {},
   "source": [
    "## Set Up the Enviroment\n",
    "```bash\n",
    "pip install tensorflow flask numpy pillow\n",
    "```"
   ]
  },
  {
   "cell_type": "markdown",
   "metadata": {},
   "source": [
    "## Load and Preprocess Data\n",
    "[Kaggle Animals Dataset](https://www.kaggle.com/datasets/iamsouravbanerjee/animal-image-dataset-90-different-animals/code)"
   ]
  },
  {
   "cell_type": "markdown",
   "metadata": {},
   "source": [
    "## Build and Train the CNN Model"
   ]
  },
  {
   "cell_type": "code",
   "execution_count": null,
   "metadata": {
    "vscode": {
     "languageId": "plaintext"
    }
   },
   "outputs": [],
   "source": [
    "import tensorflow as tf\n",
    "from tensorflow.keras import layers, models\n",
    "import numpy as np\n",
    "import os\n",
    "from tensorflow.keras.preprocessing.image import ImageDataGenerator\n",
    "\n",
    "# Load and preprocess data\n",
    "data_dir = 'path_to_your_dataset'\n",
    "batch_size = 32\n",
    "img_height = 180\n",
    "img_width = 180\n",
    "\n",
    "train_datagen = ImageDataGenerator(rescale=1./255, validation_split=0.2)\n",
    "train_generator = train_datagen.flow_from_directory(\n",
    "    data_dir,\n",
    "    target_size=(img_height, img_width),\n",
    "    batch_size=batch_size,\n",
    "    class_mode='categorical',\n",
    "    subset='training'\n",
    ")\n",
    "validation_generator = train_datagen.flow_from_directory(\n",
    "    data_dir,\n",
    "    target_size=(img_height, img_width),\n",
    "    batch_size=batch_size,\n",
    "    class_mode='categorical',\n",
    "    subset='validation'\n",
    ")\n",
    "\n",
    "# Build the model\n",
    "model = models.Sequential([\n",
    "    layers.InputLayer(input_shape=(img_height, img_width, 3)),\n",
    "    layers.Conv2D(32, (3, 3), activation='relu'),\n",
    "    layers.MaxPooling2D((2, 2)),\n",
    "    layers.Conv2D(64, (3, 3), activation='relu'),\n",
    "    layers.MaxPooling2D((2, 2)),\n",
    "    layers.Conv2D(128, (3, 3), activation='relu'),\n",
    "    layers.MaxPooling2D((2, 2)),\n",
    "    layers.Flatten(),\n",
    "    layers.Dense(128, activation='relu'),\n",
    "    layers.Dense(len(train_generator.class_indices), activation='softmax')\n",
    "])\n",
    "\n",
    "# Compile the model\n",
    "model.compile(optimizer='adam',\n",
    "              loss='categorical_crossentropy',\n",
    "              metrics=['accuracy'])\n",
    "\n",
    "# Train the model\n",
    "model.fit(train_generator, epochs=10, validation_data=validation_generator)\n",
    "\n",
    "# Save the model\n",
    "model.save('animal_classifier_model.h5')"
   ]
  },
  {
   "cell_type": "markdown",
   "metadata": {},
   "source": [
    "## Create an Image Upload Interface\n",
    "\n",
    "We'll use Flask to create a simple web interface for uploading images."
   ]
  },
  {
   "cell_type": "code",
   "execution_count": null,
   "metadata": {
    "vscode": {
     "languageId": "plaintext"
    }
   },
   "outputs": [],
   "source": [
    "from flask import Flask, request, render_template\n",
    "from tensorflow.keras.models import load_model\n",
    "from tensorflow.keras.preprocessing import image\n",
    "import numpy as np\n",
    "\n",
    "app = Flask(__name__)\n",
    "model = load_model('animal_classifier_model.h5')\n",
    "class_names = list(train_generator.class_indices.keys())\n",
    "\n",
    "def predict_animal(img_path):\n",
    "    img = image.load_img(img_path, target_size=(img_height, img_width))\n",
    "    img_array = image.img_to_array(img)\n",
    "    img_array = np.expand_dims(img_array, axis=0) / 255.0\n",
    "    predictions = model.predict(img_array)\n",
    "    predicted_class = class_names[np.argmax(predictions)]\n",
    "    return predicted_class\n",
    "\n",
    "@app.route('/', methods=['GET', 'POST'])\n",
    "def upload_file():\n",
    "    if request.method == 'POST':\n",
    "        file = request.files['file']\n",
    "        if file:\n",
    "            file_path = os.path.join('uploads', file.filename)\n",
    "            file.save(file_path)\n",
    "            predicted_class = predict_animal(file_path)\n",
    "            return render_template('result.html', animal=predicted_class)\n",
    "    return render_template('upload.html')\n",
    "\n",
    "if __name__ == '__main__':\n",
    "    app.run(debug=True)"
   ]
  },
  {
   "cell_type": "markdown",
   "metadata": {},
   "source": [
    "## Create HTML Templates\n",
    "\n",
    "Create two HTML files: `upload.html` and `result.html`\n",
    "\n",
    "**upload.html**\n",
    "```html\n",
    "<!DOCTYPE html>\n",
    "<html>\n",
    "<head>\n",
    "    <title>Upload Image</title>\n",
    "</head>\n",
    "<body>\n",
    "    <h1>Upload an Image of an Animal</h1>\n",
    "    <form action=\"/\" method=\"post\" enctype=\"multipart/form-data\">\n",
    "        <input type=\"file\" name=\"file\">\n",
    "        <input type=\"submit\" value=\"Upload\">\n",
    "    </form>\n",
    "</body>\n",
    "</html>\n",
    "```\n",
    "\n",
    "**result.html**\n",
    "```html\n",
    "<!DOCTYPE html>\n",
    "<html>\n",
    "<head>\n",
    "    <title>Result</title>\n",
    "</head>\n",
    "<body>\n",
    "    <h1>Predicted Animal: {{ animal }}</h1>\n",
    "    <a href=\"/\">Upload another image</a>\n",
    "</body>\n",
    "</html>\n",
    "```"
   ]
  },
  {
   "cell_type": "markdown",
   "metadata": {},
   "source": [
    "## Running the Application\n",
    "\n",
    "1. Save the Python script as app.py\n",
    "\n",
    "2. Create a directory named `uploads` in the same directory as `app.py`.\n",
    "\n",
    "3. Run the Flask application:\n",
    "\n",
    "```bash\n",
    "python app.py\n",
    "```\n",
    "\n",
    "4. Open your web browser and go to `http://127.0.0.1:5000/`."
   ]
  }
 ],
 "metadata": {
  "language_info": {
   "name": "python"
  }
 },
 "nbformat": 4,
 "nbformat_minor": 2
}
