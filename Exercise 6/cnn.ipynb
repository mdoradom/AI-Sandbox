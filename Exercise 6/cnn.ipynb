{
 "cells": [
  {
   "cell_type": "markdown",
   "id": "1267dbd1",
   "metadata": {},
   "source": [
    "\n",
    "# Clasificación de Imágenes de Animales\n",
    "\n",
    "**Objetivo**: Entrenar un modelo de redes neuronales convolucionales (CNN) para clasificar imágenes de animales utilizando un dataset organizado en subdirectorios.\n",
    "\n",
    "El dataset contiene imágenes organizadas por carpetas, donde cada carpeta representa una categoría (e.g., `antelope`, `bear`). Esta libreta está estructurada de la siguiente manera:\n",
    "\n",
    "1. Carga del dataset y preprocesamiento de las imágenes.\n",
    "2. Construcción de un modelo de CNN utilizando TensorFlow/Keras.\n",
    "3. Entrenamiento del modelo y ajuste de hiperparámetros.\n",
    "4. Evaluación del rendimiento del modelo con métricas y visualizaciones.\n"
   ]
  },
  {
   "cell_type": "code",
   "execution_count": 30,
   "id": "912887ec",
   "metadata": {},
   "outputs": [],
   "source": [
    "\n",
    "# Importando las bibliotecas necesarias\n",
    "import os\n",
    "import tensorflow as tf\n",
    "import numpy as np\n",
    "import matplotlib.pyplot as plt\n",
    "from tensorflow import keras\n",
    "from keras.models import Sequential\n",
    "from keras import layers\n"
   ]
  },
  {
   "cell_type": "markdown",
   "id": "37e72ae9",
   "metadata": {},
   "source": [
    "\n",
    "## Carga del Dataset\n",
    "\n",
    "El dataset está organizado en subdirectorios dentro de `animals/animals`. Cada subdirectorio corresponde a una categoría de animal.\n"
   ]
  },
  {
   "cell_type": "code",
   "execution_count": 21,
   "id": "f2b54706",
   "metadata": {},
   "outputs": [
    {
     "name": "stdout",
     "output_type": "stream",
     "text": [
      "Categorías detectadas: 90\n",
      "['antelope', 'badger', 'bat', 'bear', 'bee', 'beetle', 'bison', 'boar', 'butterfly', 'cat']\n"
     ]
    },
    {
     "name": "stderr",
     "output_type": "stream",
     "text": [
      "C:\\Users\\mariodm1\\AppData\\Roaming\\Python\\Python310\\site-packages\\keras\\src\\saving\\saving_lib.py:719: UserWarning: Skipping variable loading for optimizer 'rmsprop', because it has 6 variables whereas the saved optimizer has 10 variables. \n",
      "  saveable.load_own_variables(weights_store.get(inner_path))\n"
     ]
    }
   ],
   "source": [
    "\n",
    "# Ruta del dataset (ajustar según la ubicación real)\n",
    "base_path = \"./animals/animals\"  # Directorio raíz de las imágenes\n",
    "\n",
    "# Explorando las categorías disponibles\n",
    "categories = os.listdir(base_path)\n",
    "print(f\"Categorías detectadas: {len(categories)}\")\n",
    "print(categories[:10])  # Mostrando las primeras 10 categorías como ejemplo\n",
    "\n",
    "# Cargar modelo .keras\n",
    "model = keras.models.load_model('model.keras')"
   ]
  },
  {
   "cell_type": "markdown",
   "id": "c8bcb0ac",
   "metadata": {},
   "source": [
    "\n",
    "## Preprocesamiento de las Imágenes\n",
    "\n",
    "Normalizamos las imágenes y aplicamos aumentación de datos para mejorar la generalización del modelo.\n"
   ]
  },
  {
   "cell_type": "code",
   "execution_count": 22,
   "id": "aa98fa7e",
   "metadata": {},
   "outputs": [
    {
     "name": "stdout",
     "output_type": "stream",
     "text": [
      "Found 4320 images belonging to 90 classes.\n",
      "Found 1080 images belonging to 90 classes.\n"
     ]
    }
   ],
   "source": [
    "\n",
    "# Generador de imágenes con aumentación\n",
    "image_gen = ImageDataGenerator(\n",
    "    rescale=1./255,\n",
    "    rotation_range=20,\n",
    "    width_shift_range=0.2,\n",
    "    height_shift_range=0.2,\n",
    "    shear_range=0.2,\n",
    "    zoom_range=0.2,\n",
    "    horizontal_flip=True,\n",
    "    validation_split=0.2  # Separar un porcentaje para validación\n",
    ")\n",
    "\n",
    "# Generadores de datos para entrenamiento y validación\n",
    "train_data = image_gen.flow_from_directory(\n",
    "    base_path,\n",
    "    target_size=(150, 150),\n",
    "    batch_size=32,\n",
    "    class_mode='categorical',\n",
    "    subset='training'\n",
    ")\n",
    "\n",
    "val_data = image_gen.flow_from_directory(\n",
    "    base_path,\n",
    "    target_size=(150, 150),\n",
    "    batch_size=32,\n",
    "    class_mode='categorical',\n",
    "    subset='validation'\n",
    ")\n"
   ]
  },
  {
   "cell_type": "markdown",
   "id": "d07568a7",
   "metadata": {},
   "source": [
    "## Creació del model"
   ]
  },
  {
   "cell_type": "code",
   "execution_count": 39,
   "id": "b81cf49c",
   "metadata": {},
   "outputs": [
    {
     "name": "stderr",
     "output_type": "stream",
     "text": [
      "C:\\Users\\mariodm1\\AppData\\Roaming\\Python\\Python310\\site-packages\\keras\\src\\layers\\reshaping\\flatten.py:37: UserWarning: Do not pass an `input_shape`/`input_dim` argument to a layer. When using Sequential models, prefer using an `Input(shape)` object as the first layer in the model instead.\n",
      "  super().__init__(**kwargs)\n"
     ]
    },
    {
     "name": "stdout",
     "output_type": "stream",
     "text": [
      "Epoch 1/10\n",
      "\u001b[1m135/135\u001b[0m \u001b[32m━━━━━━━━━━━━━━━━━━━━\u001b[0m\u001b[37m\u001b[0m \u001b[1m48s\u001b[0m 352ms/step - accuracy: 0.0121 - loss: 10.1188 - val_accuracy: 0.0111 - val_loss: 9.7113\n",
      "Epoch 2/10\n",
      "\u001b[1m135/135\u001b[0m \u001b[32m━━━━━━━━━━━━━━━━━━━━\u001b[0m\u001b[37m\u001b[0m \u001b[1m47s\u001b[0m 348ms/step - accuracy: 0.0092 - loss: 9.7487 - val_accuracy: 0.0167 - val_loss: 9.6935\n",
      "Epoch 3/10\n",
      "\u001b[1m135/135\u001b[0m \u001b[32m━━━━━━━━━━━━━━━━━━━━\u001b[0m\u001b[37m\u001b[0m \u001b[1m47s\u001b[0m 346ms/step - accuracy: 0.0182 - loss: 9.6085 - val_accuracy: 0.0111 - val_loss: 9.5667\n",
      "Epoch 4/10\n",
      "\u001b[1m135/135\u001b[0m \u001b[32m━━━━━━━━━━━━━━━━━━━━\u001b[0m\u001b[37m\u001b[0m \u001b[1m47s\u001b[0m 348ms/step - accuracy: 0.0141 - loss: 9.4892 - val_accuracy: 0.0185 - val_loss: 9.5508\n",
      "Epoch 5/10\n",
      "\u001b[1m135/135\u001b[0m \u001b[32m━━━━━━━━━━━━━━━━━━━━\u001b[0m\u001b[37m\u001b[0m \u001b[1m48s\u001b[0m 353ms/step - accuracy: 0.0289 - loss: 9.5356 - val_accuracy: 0.0278 - val_loss: 9.5658\n",
      "Epoch 6/10\n",
      "\u001b[1m135/135\u001b[0m \u001b[32m━━━━━━━━━━━━━━━━━━━━\u001b[0m\u001b[37m\u001b[0m \u001b[1m51s\u001b[0m 379ms/step - accuracy: 0.0234 - loss: 9.4463 - val_accuracy: 0.0130 - val_loss: 9.5621\n",
      "Epoch 7/10\n",
      "\u001b[1m135/135\u001b[0m \u001b[32m━━━━━━━━━━━━━━━━━━━━\u001b[0m\u001b[37m\u001b[0m \u001b[1m50s\u001b[0m 374ms/step - accuracy: 0.0204 - loss: 9.5474 - val_accuracy: 0.0231 - val_loss: 9.5504\n",
      "Epoch 8/10\n",
      "\u001b[1m135/135\u001b[0m \u001b[32m━━━━━━━━━━━━━━━━━━━━\u001b[0m\u001b[37m\u001b[0m \u001b[1m49s\u001b[0m 360ms/step - accuracy: 0.0217 - loss: 9.3469 - val_accuracy: 0.0352 - val_loss: 9.5647\n",
      "Epoch 9/10\n",
      "\u001b[1m135/135\u001b[0m \u001b[32m━━━━━━━━━━━━━━━━━━━━\u001b[0m\u001b[37m\u001b[0m \u001b[1m48s\u001b[0m 355ms/step - accuracy: 0.0189 - loss: 9.7019 - val_accuracy: 0.0111 - val_loss: 9.5591\n",
      "Epoch 10/10\n",
      "\u001b[1m135/135\u001b[0m \u001b[32m━━━━━━━━━━━━━━━━━━━━\u001b[0m\u001b[37m\u001b[0m \u001b[1m47s\u001b[0m 348ms/step - accuracy: 0.0100 - loss: 9.4592 - val_accuracy: 0.0157 - val_loss: 9.5785\n"
     ]
    }
   ],
   "source": [
    "model = Sequential()\n",
    "\n",
    "model.add(layers.Flatten(input_shape=(150, 150, 3)))  # Update the input shape\n",
    "model.add(layers.Dense(128, activation='relu'))\n",
    "model.add(layers.Dense(90, activation='relu'))  # Update the number of units to match the number of classes\n",
    "\n",
    "# Compile the model\n",
    "model.compile(optimizer='adam', loss='categorical_crossentropy', metrics=['accuracy'])\n",
    "\n",
    "# Train the model\n",
    "history = model.fit(train_data, validation_data=val_data, epochs=10, batch_size=32)"
   ]
  },
  {
   "cell_type": "markdown",
   "id": "fc709058",
   "metadata": {},
   "source": [
    "## Evaluar el entrenamiento"
   ]
  },
  {
   "cell_type": "code",
   "execution_count": 40,
   "id": "5ee95c8e",
   "metadata": {},
   "outputs": [
    {
     "data": {
      "image/png": "[encoded data removed]",
      "text/plain": [
       "<Figure size 640x480 with 1 Axes>"
      ]
     },
     "metadata": {},
     "output_type": "display_data"
    },
    {
     "data": {
      "image/png": "[encoded data removed]",
      "text/plain": [
       "<Figure size 640x480 with 1 Axes>"
      ]
     },
     "metadata": {},
     "output_type": "display_data"
    }
   ],
   "source": [
    "plt.plot(history.history['loss'], label='train loss')\n",
    "plt.legend()\n",
    "plt.show()\n",
    "# plot the accuracy\n",
    "plt.plot(history.history['accuracy'], label='train acc')\n",
    "plt.legend()\n",
    "plt.show()"
   ]
  },
  {
   "cell_type": "markdown",
   "id": "c2c0ab1a",
   "metadata": {},
   "source": [
    "## Evaluar el modelo"
   ]
  },
  {
   "cell_type": "code",
   "execution_count": 41,
   "id": "58273c58",
   "metadata": {},
   "outputs": [
    {
     "name": "stdout",
     "output_type": "stream",
     "text": [
      "\u001b[1m34/34\u001b[0m \u001b[32m━━━━━━━━━━━━━━━━━━━━\u001b[0m\u001b[37m\u001b[0m \u001b[1m7s\u001b[0m 218ms/step - accuracy: 0.0154 - loss: 9.5169\n"
     ]
    },
    {
     "data": {
      "text/plain": [
       "[9.567887306213379, 0.015740741044282913]"
      ]
     },
     "execution_count": 41,
     "metadata": {},
     "output_type": "execute_result"
    }
   ],
   "source": [
    "model.evaluate(val_data)"
   ]
  },
  {
   "cell_type": "code",
   "execution_count": 44,
   "id": "a4fc0eb0",
   "metadata": {},
   "outputs": [
    {
     "name": "stdout",
     "output_type": "stream",
     "text": [
      "\u001b[1m1/1\u001b[0m \u001b[32m━━━━━━━━━━━━━━━━━━━━\u001b[0m\u001b[37m\u001b[0m \u001b[1m0s\u001b[0m 23ms/step\n",
      "This image most likely belongs to turtle with a 100.00% confidence.\n"
     ]
    }
   ],
   "source": [
    "# Predecir una imagen\n",
    "img = keras.preprocessing.image.load_img(\n",
    "    \"./animals/animals/rhinoceros/2ef5023060.jpg\", target_size=(150, 150)\n",
    ")\n",
    "img_array = keras.preprocessing.image.img_to_array(img)\n",
    "img_array = tf.expand_dims(img_array, 0)  # Create batch axis\n",
    "\n",
    "predictions = model.predict(img_array)\n",
    "score = tf.nn.softmax(predictions[0])\n",
    "\n",
    "print(\n",
    "    \"This image most likely belongs to {} with a {:.2f}% confidence.\"\n",
    "    .format(categories[np.argmax(score)], 100 * np.max(score))\n",
    ")"
   ]
  },
  {
   "cell_type": "markdown",
   "id": "fe296175",
   "metadata": {},
   "source": [
    "## Guardar el modelo"
   ]
  },
  {
   "cell_type": "code",
   "execution_count": 38,
   "id": "930d6a2f",
   "metadata": {},
   "outputs": [],
   "source": [
    "model.save('model.keras')"
   ]
  }
 ],
 "metadata": {
  "kernelspec": {
   "display_name": "Python 3",
   "language": "python",
   "name": "python3"
  },
  "language_info": {
   "codemirror_mode": {
    "name": "ipython",
    "version": 3
   },
   "file_extension": ".py",
   "mimetype": "text/x-python",
   "name": "python",
   "nbconvert_exporter": "python",
   "pygments_lexer": "ipython3",
   "version": "3.10.8"
  }
 },
 "nbformat": 4,
 "nbformat_minor": 5
}
